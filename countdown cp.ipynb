{
 "cells": [
  {
   "cell_type": "code",
   "execution_count": null,
   "id": "9ac89def",
   "metadata": {},
   "outputs": [],
   "source": [
    "import time "
   ]
  },
  {
   "cell_type": "code",
   "execution_count": 2,
   "id": "3d3cc585",
   "metadata": {},
   "outputs": [
    {
     "name": "stdout",
     "output_type": "stream",
     "text": [
      "specific timer in seconds : 10\n"
     ]
    }
   ],
   "source": [
    "seconds = input ('specific timer in seconds : ')\n",
    "seconds = int(seconds)"
   ]
  },
  {
   "cell_type": "code",
   "execution_count": 3,
   "id": "2d986526",
   "metadata": {},
   "outputs": [
    {
     "name": "stdout",
     "output_type": "stream",
     "text": [
      " 0:00:00\r"
     ]
    }
   ],
   "source": [
    "def countdown(t):\n",
    "    while t >= 0:\n",
    "        m, s = divmod(t, 60)\n",
    "        h, m = divmod(m, 60)\n",
    "        print(\"{:2d}:{:02d}:{:02d}\".format(h, m, s), end='\\r')\n",
    "        t -= 1\n",
    "        time.sleep(1)\n",
    "countdown(seconds)"
   ]
  },
  {
   "cell_type": "code",
   "execution_count": null,
   "id": "f0c68705",
   "metadata": {},
   "outputs": [],
   "source": []
  }
 ],
 "metadata": {
  "kernelspec": {
   "display_name": "Python 3 (ipykernel)",
   "language": "python",
   "name": "python3"
  },
  "language_info": {
   "codemirror_mode": {
    "name": "ipython",
    "version": 3
   },
   "file_extension": ".py",
   "mimetype": "text/x-python",
   "name": "python",
   "nbconvert_exporter": "python",
   "pygments_lexer": "ipython3",
   "version": "3.9.12"
  }
 },
 "nbformat": 4,
 "nbformat_minor": 5
}
